{
 "cells": [
  {
   "cell_type": "code",
   "execution_count": 1,
   "metadata": {},
   "outputs": [],
   "source": [
    "import pandas as pd\n",
    "import numpy as np"
   ]
  },
  {
   "cell_type": "code",
   "execution_count": 2,
   "metadata": {},
   "outputs": [],
   "source": [
    "dfx=pd.read_csv('Xenergy.csv',header=0, index_col=0, parse_dates=True, squeeze=True)\n",
    "dfx=dfx.drop('Year',axis=1)"
   ]
  },
  {
   "cell_type": "code",
   "execution_count": 3,
   "metadata": {},
   "outputs": [
    {
     "data": {
      "text/html": [
       "<div>\n",
       "<style scoped>\n",
       "    .dataframe tbody tr th:only-of-type {\n",
       "        vertical-align: middle;\n",
       "    }\n",
       "\n",
       "    .dataframe tbody tr th {\n",
       "        vertical-align: top;\n",
       "    }\n",
       "\n",
       "    .dataframe thead th {\n",
       "        text-align: right;\n",
       "    }\n",
       "</style>\n",
       "<table border=\"1\" class=\"dataframe\">\n",
       "  <thead>\n",
       "    <tr style=\"text-align: right;\">\n",
       "      <th></th>\n",
       "      <th>Total Energy</th>\n",
       "    </tr>\n",
       "  </thead>\n",
       "  <tbody>\n",
       "    <tr>\n",
       "      <th>0</th>\n",
       "      <td>40552</td>\n",
       "    </tr>\n",
       "    <tr>\n",
       "      <th>1</th>\n",
       "      <td>42689</td>\n",
       "    </tr>\n",
       "    <tr>\n",
       "      <th>2</th>\n",
       "      <td>44327</td>\n",
       "    </tr>\n",
       "    <tr>\n",
       "      <th>3</th>\n",
       "      <td>47020</td>\n",
       "    </tr>\n",
       "    <tr>\n",
       "      <th>4</th>\n",
       "      <td>50209</td>\n",
       "    </tr>\n",
       "  </tbody>\n",
       "</table>\n",
       "</div>"
      ],
      "text/plain": [
       "   Total Energy\n",
       "0         40552\n",
       "1         42689\n",
       "2         44327\n",
       "3         47020\n",
       "4         50209"
      ]
     },
     "execution_count": 3,
     "metadata": {},
     "output_type": "execute_result"
    }
   ],
   "source": [
    "dfx.head()"
   ]
  },
  {
   "cell_type": "code",
   "execution_count": 5,
   "metadata": {},
   "outputs": [
    {
     "name": "stdout",
     "output_type": "stream",
     "text": [
      "(55,)\n"
     ]
    }
   ],
   "source": [
    "n_data_points = len(dfx)\n",
    "\n",
    "# Convert data to a numpy array\n",
    "arr = np.array(dfx).reshape(n_data_points)\n",
    "print(arr.shape)"
   ]
  },
  {
   "cell_type": "code",
   "execution_count": 6,
   "metadata": {},
   "outputs": [
    {
     "name": "stdout",
     "output_type": "stream",
     "text": [
      "(45, 10)\n"
     ]
    }
   ],
   "source": [
    "X = 5\n",
    "Y = 5\n",
    "window = X + Y  #10\n",
    "\n",
    "dataset = np.empty((45,window))  \n",
    "\n",
    "for i in range(45):\n",
    "    dataset[i] = arr[i:i+window]\n",
    "    \n",
    "print(dataset.shape)"
   ]
  },
  {
   "cell_type": "code",
   "execution_count": 8,
   "metadata": {},
   "outputs": [],
   "source": [
    "np.random.shuffle(dataset)"
   ]
  },
  {
   "cell_type": "code",
   "execution_count": 10,
   "metadata": {},
   "outputs": [],
   "source": [
    "n_training_points = 34\n",
    "\n",
    "X_train, y_train = dataset[:n_training_points,:X], dataset[:n_training_points,X:]"
   ]
  },
  {
   "cell_type": "code",
   "execution_count": 12,
   "metadata": {},
   "outputs": [],
   "source": [
    "# Test Data\n",
    "\n",
    "n_test_points = 10\n",
    "\n",
    "X_test = dataset[1+n_training_points : n_training_points+1+n_test_points,:X]\n",
    "y_test = dataset[1+n_training_points : n_training_points+1+n_test_points,X:]"
   ]
  },
  {
   "cell_type": "code",
   "execution_count": 13,
   "metadata": {},
   "outputs": [
    {
     "name": "stdout",
     "output_type": "stream",
     "text": [
      "(34, 5)\n",
      "(34, 5)\n",
      "(10, 5)\n",
      "(10, 5)\n"
     ]
    }
   ],
   "source": [
    "print(X_train.shape)\n",
    "print(y_train.shape)\n",
    "\n",
    "print(X_test.shape)\n",
    "print(y_test.shape)"
   ]
  },
  {
   "cell_type": "code",
   "execution_count": 14,
   "metadata": {},
   "outputs": [],
   "source": [
    "import tensorflow as tf\n",
    "from tensorflow import keras\n",
    "from tensorflow.keras.models import Sequential\n",
    "from tensorflow.keras.layers import Dense\n",
    "from tensorflow.keras.layers import LSTM\n",
    "from tensorflow.keras.optimizers import Adam, SGD"
   ]
  },
  {
   "cell_type": "code",
   "execution_count": 19,
   "metadata": {},
   "outputs": [],
   "source": [
    "from sklearn import metrics\n",
    "from scipy import stats"
   ]
  },
  {
   "cell_type": "code",
   "execution_count": 15,
   "metadata": {},
   "outputs": [],
   "source": [
    "# Initialize the model \n",
    "model = Sequential()\n",
    "\n",
    "# Add first hidden layer \n",
    "model.add(Dense(32, activation='relu', input_shape=(X,)))\n",
    "\n",
    "# Add second hidden layer\n",
    "model.add(Dense(32, activation='relu'))\n",
    " \n",
    "# Add an output layer \n",
    "model.add(Dense(Y))"
   ]
  },
  {
   "cell_type": "code",
   "execution_count": 16,
   "metadata": {},
   "outputs": [
    {
     "name": "stderr",
     "output_type": "stream",
     "text": [
      "C:\\Users\\Srivathsav\\anaconda3\\lib\\site-packages\\tensorflow\\python\\keras\\optimizer_v2\\optimizer_v2.py:374: UserWarning: The `lr` argument is deprecated, use `learning_rate` instead.\n",
      "  warnings.warn(\n"
     ]
    }
   ],
   "source": [
    "optimizer = Adam(lr=0.003)\n",
    "model.compile(loss='mse',\n",
    "              optimizer=optimizer,\n",
    "              metrics=['mae'])"
   ]
  },
  {
   "cell_type": "code",
   "execution_count": 17,
   "metadata": {},
   "outputs": [
    {
     "name": "stdout",
     "output_type": "stream",
     "text": [
      "Epoch 1/50\n",
      "1/1 [==============================] - 1s 1s/step - loss: 7840651264.0000 - mae: 82146.3828 - val_loss: 5832739328.0000 - val_mae: 70180.1641\n",
      "Epoch 2/50\n",
      "1/1 [==============================] - 0s 60ms/step - loss: 7153484800.0000 - mae: 78407.5938 - val_loss: 5303962112.0000 - val_mae: 66802.8984\n",
      "Epoch 3/50\n",
      "1/1 [==============================] - 0s 57ms/step - loss: 6519969792.0000 - mae: 74726.8438 - val_loss: 4824367616.0000 - val_mae: 63502.9180\n",
      "Epoch 4/50\n",
      "1/1 [==============================] - 0s 59ms/step - loss: 5944466944.0000 - mae: 71108.4531 - val_loss: 4402364416.0000 - val_mae: 60350.7617\n",
      "Epoch 5/50\n",
      "1/1 [==============================] - 0s 50ms/step - loss: 5434497024.0000 - mae: 67650.9609 - val_loss: 4033126656.0000 - val_mae: 57410.0352\n",
      "Epoch 6/50\n",
      "1/1 [==============================] - 0s 52ms/step - loss: 4990742016.0000 - mae: 64452.8594 - val_loss: 3712160512.0000 - val_mae: 54655.4336\n",
      "Epoch 7/50\n",
      "1/1 [==============================] - 0s 54ms/step - loss: 4615804416.0000 - mae: 61532.7031 - val_loss: 3435591424.0000 - val_mae: 52074.3555\n",
      "Epoch 8/50\n",
      "1/1 [==============================] - 0s 45ms/step - loss: 4280297728.0000 - mae: 58709.2031 - val_loss: 3186011392.0000 - val_mae: 49598.2578\n",
      "Epoch 9/50\n",
      "1/1 [==============================] - 0s 49ms/step - loss: 3974407168.0000 - mae: 55983.5742 - val_loss: 2950590976.0000 - val_mae: 47102.7266\n",
      "Epoch 10/50\n",
      "1/1 [==============================] - 0s 44ms/step - loss: 3687561728.0000 - mae: 53257.4297 - val_loss: 2718039296.0000 - val_mae: 44466.3867\n",
      "Epoch 11/50\n",
      "1/1 [==============================] - 0s 49ms/step - loss: 3403597824.0000 - mae: 50378.5781 - val_loss: 2490394880.0000 - val_mae: 41712.7422\n",
      "Epoch 12/50\n",
      "1/1 [==============================] - 0s 72ms/step - loss: 3124624896.0000 - mae: 47373.3438 - val_loss: 2261595392.0000 - val_mae: 38694.2539\n",
      "Epoch 13/50\n",
      "1/1 [==============================] - 0s 64ms/step - loss: 2842817280.0000 - mae: 44077.0195 - val_loss: 2047635584.0000 - val_mae: 35406.3867\n",
      "Epoch 14/50\n",
      "1/1 [==============================] - 0s 48ms/step - loss: 2575119360.0000 - mae: 40483.7266 - val_loss: 1860387712.0000 - val_mae: 32195.0039\n",
      "Epoch 15/50\n",
      "1/1 [==============================] - 0s 51ms/step - loss: 2340105984.0000 - mae: 36687.3945 - val_loss: 1693661312.0000 - val_mae: 29656.0488\n",
      "Epoch 16/50\n",
      "1/1 [==============================] - 0s 50ms/step - loss: 2128695040.0000 - mae: 33603.4727 - val_loss: 1550776064.0000 - val_mae: 27604.0938\n",
      "Epoch 17/50\n",
      "1/1 [==============================] - 0s 55ms/step - loss: 1944180096.0000 - mae: 31276.7891 - val_loss: 1416729728.0000 - val_mae: 25706.4414\n",
      "Epoch 18/50\n",
      "1/1 [==============================] - 0s 49ms/step - loss: 1768673024.0000 - mae: 29014.6992 - val_loss: 1296115712.0000 - val_mae: 24482.3496\n",
      "Epoch 19/50\n",
      "1/1 [==============================] - 0s 49ms/step - loss: 1610201600.0000 - mae: 27070.8379 - val_loss: 1191903872.0000 - val_mae: 24340.5586\n",
      "Epoch 20/50\n",
      "1/1 [==============================] - 0s 47ms/step - loss: 1471243648.0000 - mae: 26397.5332 - val_loss: 1101150464.0000 - val_mae: 24186.9707\n",
      "Epoch 21/50\n",
      "1/1 [==============================] - 0s 50ms/step - loss: 1348744320.0000 - mae: 26127.1035 - val_loss: 1018383808.0000 - val_mae: 23849.2500\n",
      "Epoch 22/50\n",
      "1/1 [==============================] - 0s 54ms/step - loss: 1236966656.0000 - mae: 25713.9043 - val_loss: 938273664.0000 - val_mae: 23182.9414\n",
      "Epoch 23/50\n",
      "1/1 [==============================] - 0s 51ms/step - loss: 1130154112.0000 - mae: 24947.7500 - val_loss: 857115648.0000 - val_mae: 22077.6992\n",
      "Epoch 24/50\n",
      "1/1 [==============================] - 0s 43ms/step - loss: 1024187200.0000 - mae: 23714.9238 - val_loss: 774379072.0000 - val_mae: 20981.2949\n",
      "Epoch 25/50\n",
      "1/1 [==============================] - 0s 50ms/step - loss: 917669824.0000 - mae: 22186.8633 - val_loss: 696689792.0000 - val_mae: 20397.5664\n",
      "Epoch 26/50\n",
      "1/1 [==============================] - 0s 49ms/step - loss: 818143104.0000 - mae: 21192.9141 - val_loss: 616583168.0000 - val_mae: 19534.0801\n",
      "Epoch 27/50\n",
      "1/1 [==============================] - 0s 50ms/step - loss: 719126400.0000 - mae: 20224.6895 - val_loss: 535614784.0000 - val_mae: 18446.6465\n",
      "Epoch 28/50\n",
      "1/1 [==============================] - 0s 70ms/step - loss: 621004736.0000 - mae: 19041.8984 - val_loss: 456595360.0000 - val_mae: 17196.5918\n",
      "Epoch 29/50\n",
      "1/1 [==============================] - 0s 60ms/step - loss: 526855456.0000 - mae: 17676.2949 - val_loss: 382488864.0000 - val_mae: 15755.2090\n",
      "Epoch 30/50\n",
      "1/1 [==============================] - 0s 60ms/step - loss: 439907072.0000 - mae: 16102.0625 - val_loss: 315965024.0000 - val_mae: 14199.4072\n",
      "Epoch 31/50\n",
      "1/1 [==============================] - 0s 60ms/step - loss: 362910560.0000 - mae: 14534.0117 - val_loss: 258860400.0000 - val_mae: 12731.1230\n",
      "Epoch 32/50\n",
      "1/1 [==============================] - 0s 51ms/step - loss: 297833504.0000 - mae: 13167.9463 - val_loss: 212217504.0000 - val_mae: 11669.3223\n",
      "Epoch 33/50\n",
      "1/1 [==============================] - 0s 60ms/step - loss: 245673536.0000 - mae: 12236.8037 - val_loss: 176023216.0000 - val_mae: 10797.7188\n",
      "Epoch 34/50\n",
      "1/1 [==============================] - 0s 60ms/step - loss: 206144448.0000 - mae: 11579.9541 - val_loss: 149425904.0000 - val_mae: 10047.7832\n",
      "Epoch 35/50\n",
      "1/1 [==============================] - 0s 58ms/step - loss: 177730576.0000 - mae: 11079.0879 - val_loss: 130726984.0000 - val_mae: 9524.9150\n",
      "Epoch 36/50\n",
      "1/1 [==============================] - 0s 60ms/step - loss: 158298928.0000 - mae: 10713.1992 - val_loss: 117974488.0000 - val_mae: 9119.5400\n",
      "Epoch 37/50\n",
      "1/1 [==============================] - 0s 49ms/step - loss: 145219920.0000 - mae: 10403.0264 - val_loss: 109060224.0000 - val_mae: 8715.3135\n",
      "Epoch 38/50\n",
      "1/1 [==============================] - 0s 60ms/step - loss: 136020304.0000 - mae: 10101.6270 - val_loss: 102178808.0000 - val_mae: 8289.9990\n",
      "Epoch 39/50\n",
      "1/1 [==============================] - 0s 56ms/step - loss: 128583472.0000 - mae: 9768.8486 - val_loss: 95806864.0000 - val_mae: 7754.0127\n",
      "Epoch 40/50\n",
      "1/1 [==============================] - 0s 61ms/step - loss: 120384264.0000 - mae: 9306.6025 - val_loss: 89601616.0000 - val_mae: 7267.7744\n",
      "Epoch 41/50\n",
      "1/1 [==============================] - 0s 58ms/step - loss: 111595008.0000 - mae: 8830.4795 - val_loss: 83300072.0000 - val_mae: 7038.0156\n",
      "Epoch 42/50\n",
      "1/1 [==============================] - 0s 55ms/step - loss: 102261288.0000 - mae: 8380.8438 - val_loss: 76984272.0000 - val_mae: 6802.0757\n",
      "Epoch 43/50\n",
      "1/1 [==============================] - 0s 58ms/step - loss: 92580752.0000 - mae: 7997.0283 - val_loss: 70880528.0000 - val_mae: 6454.2500\n",
      "Epoch 44/50\n",
      "1/1 [==============================] - 0s 53ms/step - loss: 82917872.0000 - mae: 7538.9253 - val_loss: 65260808.0000 - val_mae: 6117.0474\n",
      "Epoch 45/50\n",
      "1/1 [==============================] - 0s 56ms/step - loss: 73695488.0000 - mae: 7044.9312 - val_loss: 60360284.0000 - val_mae: 5738.2690\n",
      "Epoch 46/50\n",
      "1/1 [==============================] - 0s 44ms/step - loss: 65297868.0000 - mae: 6518.9165 - val_loss: 56322752.0000 - val_mae: 5493.2109\n",
      "Epoch 47/50\n",
      "1/1 [==============================] - 0s 62ms/step - loss: 57999256.0000 - mae: 5994.8301 - val_loss: 53158300.0000 - val_mae: 5369.1572\n",
      "Epoch 48/50\n",
      "1/1 [==============================] - 0s 56ms/step - loss: 51917792.0000 - mae: 5612.8862 - val_loss: 50739692.0000 - val_mae: 5425.1006\n",
      "Epoch 49/50\n",
      "1/1 [==============================] - 0s 53ms/step - loss: 47010460.0000 - mae: 5356.4463 - val_loss: 48846028.0000 - val_mae: 5530.4067\n",
      "Epoch 50/50\n",
      "1/1 [==============================] - 0s 52ms/step - loss: 43102984.0000 - mae: 5212.4502 - val_loss: 47206968.0000 - val_mae: 5575.1987\n"
     ]
    }
   ],
   "source": [
    "epochs = 50\n",
    "batch_size = 64\n",
    "\n",
    "history = model.fit(X_train, y_train, \n",
    "                    validation_split=0.2, \n",
    "                    epochs=epochs, \n",
    "                    batch_size=batch_size, \n",
    "                    verbose=1)"
   ]
  },
  {
   "cell_type": "code",
   "execution_count": 20,
   "metadata": {},
   "outputs": [
    {
     "name": "stdout",
     "output_type": "stream",
     "text": [
      "1/1 [==============================] - 0s 45ms/step - loss: 45469820.0000 - mae: 5459.2988\n",
      "MSE: 45469820.0\n",
      "MAE: 5459.298828125\n",
      "R2:  0.9152981864088267\n"
     ]
    }
   ],
   "source": [
    "dnn_pred = model.predict(X_test)\n",
    "score = model.evaluate(X_test, y_test)\n",
    "\n",
    "print(f'MSE: {score[0]}')\n",
    "print(f'MAE: {score[1]}')\n",
    "print('R2: ', metrics.r2_score(y_test, dnn_pred, sample_weight=None, multioutput='uniform_average'))"
   ]
  },
  {
   "cell_type": "code",
   "execution_count": 24,
   "metadata": {},
   "outputs": [
    {
     "data": {
      "image/png": "[encoded data removed]",
      "text/plain": [
       "<Figure size 864x288 with 1 Axes>"
      ]
     },
     "metadata": {
      "needs_background": "light"
     },
     "output_type": "display_data"
    }
   ],
   "source": [
    "import matplotlib.pyplot as plt\n",
    "plt.figure(figsize=(12,4))\n",
    "plt.plot(y_test[:,4], label='Truth')\n",
    "plt.plot(dnn_pred[:,4], label='Prediction')\n",
    "plt.ylabel('Energy Production change', fontsize=12)\n",
    "plt.xlabel('Test Data Points', fontsize=12)\n",
    "plt.legend(fontsize=12)\n",
    "plt.show()"
   ]
  }
 ],
 "metadata": {
  "kernelspec": {
   "display_name": "Python 3",
   "language": "python",
   "name": "python3"
  },
  "language_info": {
   "codemirror_mode": {
    "name": "ipython",
    "version": 3
   },
   "file_extension": ".py",
   "mimetype": "text/x-python",
   "name": "python",
   "nbconvert_exporter": "python",
   "pygments_lexer": "ipython3",
   "version": "3.8.5"
  }
 },
 "nbformat": 4,
 "nbformat_minor": 4
}
